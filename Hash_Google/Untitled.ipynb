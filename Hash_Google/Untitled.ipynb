{
 "cells": [
  {
   "cell_type": "code",
   "execution_count": null,
   "metadata": {},
   "outputs": [],
   "source": [
    "import itertools\n",
    "import pprint\n",
    "class Hash_google:\n",
    "    def types_of_pizza(self,file_Name):\n",
    "        \n",
    "        path_to_file=\"/home/iffishells/Downloads/Hash_Google/\" +str(file_Name)\n",
    "        with open(path_to_file,\"r\") as file:\n",
    "            save=file.readlines()\n",
    "            \n",
    "        size_and_type=save[0].split()   #convert into int each value\n",
    "        size_and_type=ob.convert_into_int(size_and_type)\n",
    "        \n",
    "        \n",
    "        number_of_slices=save[1].split()  #convert into int each value\n",
    "        number_of_slices=ob.convert_into_int(number_of_slices)\n",
    "        \n",
    "        combination_Dicit={}\n",
    "        for j in range(0,len(number_of_slices)+1):\n",
    "            for subset in itertools.combinations(number_of_slices,j):\n",
    "                #print(subset)\n",
    "                combination_Dicit[sum(subset)]=subset\n",
    "                \n",
    "        pprint.pprint(combination_Dicit)\n",
    "                \n",
    "                \n",
    "def convert_into_int(self,list_):\n",
    "    for i in range(0,len(list_)):\n",
    "        list_[i]=int(list_[i])\n",
    "    return list_\n",
    "Hash_google.convert_into_int=convert_into_int\n",
    "            \n",
    "        "
   ]
  },
  {
   "cell_type": "code",
   "execution_count": null,
   "metadata": {},
   "outputs": [],
   "source": [
    "ob=Hash_google()\n",
    "ob.types_of_pizza(\"e_also_big.in\")"
   ]
  },
  {
   "cell_type": "code",
   "execution_count": null,
   "metadata": {},
   "outputs": [],
   "source": [
    "import itertools\n",
    "\n",
    "stuff = [1, 2, 3]\n",
    "for L in range(0, len(stuff)+1):\n",
    "    for subset in itertools.combinations(stuff, L):\n",
    "        print(subset)"
   ]
  },
  {
   "cell_type": "code",
   "execution_count": 6,
   "metadata": {},
   "outputs": [
    {
     "data": {
      "text/plain": [
       "[2, 5, 6, 8]"
      ]
     },
     "execution_count": 6,
     "metadata": {},
     "output_type": "execute_result"
    }
   ],
   "source": [
    "def convert_into_int(list_):\n",
    "        for i in range(0,len(list_)):\n",
    "            list_[i]=int(list_[i])\n",
    "        return list_\n",
    "        \n",
    "convert_into_int(['2', '5', '6', '8'])"
   ]
  },
  {
   "cell_type": "code",
   "execution_count": null,
   "metadata": {},
   "outputs": [],
   "source": []
  }
 ],
 "metadata": {
  "kernelspec": {
   "display_name": "Python 3",
   "language": "python",
   "name": "python3"
  },
  "language_info": {
   "codemirror_mode": {
    "name": "ipython",
    "version": 3
   },
   "file_extension": ".py",
   "mimetype": "text/x-python",
   "name": "python",
   "nbconvert_exporter": "python",
   "pygments_lexer": "ipython3",
   "version": "3.6.9"
  }
 },
 "nbformat": 4,
 "nbformat_minor": 2
}
